{
  "nbformat": 4,
  "nbformat_minor": 0,
  "metadata": {
    "colab": {
      "provenance": [],
      "include_colab_link": true
    },
    "kernelspec": {
      "name": "python3",
      "display_name": "Python 3"
    },
    "language_info": {
      "name": "python"
    }
  },
  "cells": [
    {
      "cell_type": "markdown",
      "metadata": {
        "id": "view-in-github",
        "colab_type": "text"
      },
      "source": [
        "<a href=\"https://colab.research.google.com/github/KHarikaReddy/Shiva/blob/main/FUNCTIONS_2_.ipynb\" target=\"_parent\"><img src=\"https://colab.research.google.com/assets/colab-badge.svg\" alt=\"Open In Colab\"/></a>"
      ]
    },
    {
      "cell_type": "markdown",
      "source": [
        "*** USE THE CONCEPT OF FUNCTIONS TO SOLVE THE BELOW PROGRAMMING QUESTIONS ***"
      ],
      "metadata": {
        "id": "iW-mnZaZRsWX"
      }
    },
    {
      "cell_type": "markdown",
      "source": [
        "1) Write a Python function that accepts a string and counts the number of upper and lower case letters.\n",
        "\n",
        "Sample String : 'The quick Brow Fox'\n",
        "\n",
        "Expected Output :\n",
        "\n",
        "No. of Upper case characters : 3\n",
        "\n",
        "No. of Lower case Characters : 12"
      ],
      "metadata": {
        "id": "gZjDc6eiRsYf"
      }
    },
    {
      "cell_type": "code",
      "source": [
        "def count_case_letters(s):\n",
        "    upper_count = 0\n",
        "    lower_count = 0\n",
        "\n",
        "    for char in s:\n",
        "        if char.isupper():\n",
        "            upper_count += 1\n",
        "        elif char.islower():\n",
        "            lower_count += 1\n",
        "\n",
        "    print(\"No. of Upper case characters:\", upper_count)\n",
        "    print(\"No. of Lower case characters:\", lower_count)\n",
        "sample_str = 'The quick Brow Fox'\n",
        "count_case_letters(sample_str)\n"
      ],
      "metadata": {
        "id": "wGtk-weiR-5t",
        "colab": {
          "base_uri": "https://localhost:8080/"
        },
        "outputId": "f3124091-6338-4640-bafa-9abb3fb7f3f9"
      },
      "execution_count": 1,
      "outputs": [
        {
          "output_type": "stream",
          "name": "stdout",
          "text": [
            "No. of Upper case characters: 3\n",
            "No. of Lower case characters: 12\n"
          ]
        }
      ]
    },
    {
      "cell_type": "markdown",
      "source": [
        "2) Write a Python function that takes a list and returns a new list with distinct elements from the first list.\n",
        "\n",
        "Sample List : [1,2,3,3,3,3,4,5]\n",
        "\n",
        "Unique List : [1, 2, 3, 4, 5]"
      ],
      "metadata": {
        "id": "bmt7_PqqRsaw"
      }
    },
    {
      "cell_type": "code",
      "source": [
        "def get_unique_elements(lst):\n",
        "    return list(set(lst))\n",
        "sample_list = [1, 2, 3, 3, 3, 3, 4, 5]\n",
        "print(\"Unique List:\", get_unique_elements(sample_list))\n"
      ],
      "metadata": {
        "id": "Za2S_kbzSQJZ",
        "colab": {
          "base_uri": "https://localhost:8080/"
        },
        "outputId": "698d9af6-739d-4408-c5ed-bf02ac9569ef"
      },
      "execution_count": 2,
      "outputs": [
        {
          "output_type": "stream",
          "name": "stdout",
          "text": [
            "Unique List: [1, 2, 3, 4, 5]\n"
          ]
        }
      ]
    },
    {
      "cell_type": "markdown",
      "source": [
        "3) Write a Python function that takes a number as a parameter and checks whether the number is prime or not.\n",
        "\n",
        "Note : A prime number (or a prime) is a natural number greater than 1 and that has no positive divisors other than 1 and itself."
      ],
      "metadata": {
        "id": "adx-jfbnRsdC"
      }
    },
    {
      "cell_type": "code",
      "source": [
        "def is_prime(n):\n",
        "    if n < 2:\n",
        "        return False\n",
        "    for i in range(2, int(n ** 0.5) + 1):\n",
        "        if n % i == 0:\n",
        "            return False\n",
        "    return True\n",
        "num = 30\n",
        "if is_prime(num):\n",
        "    print(f\"{num} is a prime number.\")\n",
        "else:\n",
        "    print(f\"{num} is not a prime number.\")\n"
      ],
      "metadata": {
        "id": "RaBolJpSSa4N",
        "colab": {
          "base_uri": "https://localhost:8080/"
        },
        "outputId": "a79d1b3d-d490-4650-e49a-d20fbd7f6305"
      },
      "execution_count": 5,
      "outputs": [
        {
          "output_type": "stream",
          "name": "stdout",
          "text": [
            "30 is not a prime number.\n"
          ]
        }
      ]
    },
    {
      "cell_type": "markdown",
      "source": [
        "4)Write a Python program to print the even numbers from a given list.\n",
        "\n",
        "Sample List : [1, 2, 3, 4, 5, 6, 7, 8, 9]\n",
        "\n",
        "Expected Result : [2, 4, 6, 8]\n"
      ],
      "metadata": {
        "id": "P2i2bBwIRsfQ"
      }
    },
    {
      "cell_type": "code",
      "source": [
        "def get_even_numbers(lst):\n",
        "    return [num for num in lst if num % 2 == 0]\n",
        "sample_list = [1, 2, 3, 4, 5, 6, 7, 8, 9]\n",
        "print(\"Even numbers:\", get_even_numbers(sample_list))\n"
      ],
      "metadata": {
        "id": "32Rk_UCp_pAT",
        "colab": {
          "base_uri": "https://localhost:8080/"
        },
        "outputId": "8c676e48-d02b-4ac2-c8c3-0ef65cb96c5d"
      },
      "execution_count": 6,
      "outputs": [
        {
          "output_type": "stream",
          "name": "stdout",
          "text": [
            "Even numbers: [2, 4, 6, 8]\n"
          ]
        }
      ]
    },
    {
      "cell_type": "markdown",
      "source": [
        "5) Write a Python function to check whether a string is a pangram or not.\n",
        "\n",
        "Note : Pangrams are words or sentences containing every letter of the alphabet at least once.\n",
        "\n",
        "For example : \"The quick brown fox jumps over the lazy dog\""
      ],
      "metadata": {
        "id": "kaTTpignRsh7"
      }
    },
    {
      "cell_type": "code",
      "source": [
        "import string\n",
        "def is_pangram(s):\n",
        "    alphabet = set(string.ascii_lowercase)\n",
        "    return alphabet.issubset(set(s.lower()))\n",
        "sample_text = \"The quick brown fox jumps over the lazy dog\"\n",
        "if is_pangram(sample_text):\n",
        "    print(\"The string is a pangram.\")\n",
        "else:\n",
        "    print(\"The string is not a pangram.\")\n"
      ],
      "metadata": {
        "id": "EHEntu3P_5s8",
        "colab": {
          "base_uri": "https://localhost:8080/"
        },
        "outputId": "d47c1fcd-ff73-439f-d146-2342b374f8b2"
      },
      "execution_count": 7,
      "outputs": [
        {
          "output_type": "stream",
          "name": "stdout",
          "text": [
            "The string is a pangram.\n"
          ]
        }
      ]
    },
    {
      "cell_type": "markdown",
      "source": [],
      "metadata": {
        "id": "3InqavJfRslk"
      }
    }
  ]
}