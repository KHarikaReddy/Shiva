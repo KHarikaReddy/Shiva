{
  "nbformat": 4,
  "nbformat_minor": 0,
  "metadata": {
    "colab": {
      "provenance": [],
      "include_colab_link": true
    },
    "kernelspec": {
      "name": "python3",
      "display_name": "Python 3"
    },
    "language_info": {
      "name": "python"
    }
  },
  "cells": [
    {
      "cell_type": "markdown",
      "metadata": {
        "id": "view-in-github",
        "colab_type": "text"
      },
      "source": [
        "<a href=\"https://colab.research.google.com/github/KHarikaReddy/Shiva/blob/main/FUNCTIONS_1_.ipynb\" target=\"_parent\"><img src=\"https://colab.research.google.com/assets/colab-badge.svg\" alt=\"Open In Colab\"/></a>"
      ]
    },
    {
      "cell_type": "markdown",
      "source": [
        "*** USE THE CONCEPT OF FUNCTIONS TO SOLVE THE BELOW PROGRAMMING QUESTIONS ***"
      ],
      "metadata": {
        "id": "Rg2ZBqGAQwAf"
      }
    },
    {
      "cell_type": "markdown",
      "source": [
        "1) Write a Python function to sum all the numbers in a list.\n",
        "\n",
        "Sample List : (8, 2, 3, 0, 7)\n",
        "\n",
        "Expected Output : 20\n"
      ],
      "metadata": {
        "id": "ScHTvbE1QwCo"
      }
    },
    {
      "cell_type": "code",
      "source": [
        "def sum_list(numbers):\n",
        "    return sum(numbers)\n",
        "\n",
        "print(sum_list([8, 2, 3, 0, 7]))"
      ],
      "metadata": {
        "id": "aR_k4uReQ8Og",
        "colab": {
          "base_uri": "https://localhost:8080/"
        },
        "outputId": "f62f5c1a-19fe-4512-f2c6-3f7b50348f3c"
      },
      "execution_count": 1,
      "outputs": [
        {
          "output_type": "stream",
          "name": "stdout",
          "text": [
            "20\n"
          ]
        }
      ]
    },
    {
      "cell_type": "markdown",
      "source": [
        "2) Write a Python function to multiply all the numbers in a list.\n",
        "\n",
        "Sample List : (8, 2, 3, -1, 7)\n",
        "\n",
        "Expected Output : -336"
      ],
      "metadata": {
        "id": "dZtcDLjAQwE-"
      }
    },
    {
      "cell_type": "code",
      "source": [
        "def multiply_list(numbers):\n",
        "    result = 1\n",
        "    for num in numbers:\n",
        "        result *= num\n",
        "    return result\n",
        "\n",
        "print(multiply_list([8, 2, 3, -1, 7]))"
      ],
      "metadata": {
        "id": "98uwoSPnRHyL",
        "colab": {
          "base_uri": "https://localhost:8080/"
        },
        "outputId": "20ca729f-244c-471a-c664-3671f9735046"
      },
      "execution_count": 2,
      "outputs": [
        {
          "output_type": "stream",
          "name": "stdout",
          "text": [
            "-336\n"
          ]
        }
      ]
    },
    {
      "cell_type": "markdown",
      "source": [
        "3) Write a Python program to reverse a string.\n",
        "\n",
        "Sample String : \"1234abcd\"\n",
        "\n",
        "Expected Output : \"dcba4321\""
      ],
      "metadata": {
        "id": "99G7rde1QwHN"
      }
    },
    {
      "cell_type": "code",
      "source": [
        "def reverse_string(s):\n",
        "    return s[::-1]\n",
        "\n",
        "print(reverse_string(\"1234abcd\"))"
      ],
      "metadata": {
        "id": "6qmLELFCRQAD",
        "colab": {
          "base_uri": "https://localhost:8080/"
        },
        "outputId": "79d64287-518e-4451-c04c-5d37bfe48f24"
      },
      "execution_count": 3,
      "outputs": [
        {
          "output_type": "stream",
          "name": "stdout",
          "text": [
            "dcba4321\n"
          ]
        }
      ]
    },
    {
      "cell_type": "markdown",
      "source": [
        "4) Write a Python function to calculate the factorial of a number (a non-negative integer). The function accepts the number as an argument."
      ],
      "metadata": {
        "id": "_XE8as7eQwJn"
      }
    },
    {
      "cell_type": "code",
      "source": [
        "def factorial(n):\n",
        "    if n == 0 or n == 1:\n",
        "        return 1\n",
        "    else:\n",
        "        return n * factorial(n - 1)\n",
        "\n",
        "print(factorial(5))"
      ],
      "metadata": {
        "id": "Di5n5kNARZdn",
        "colab": {
          "base_uri": "https://localhost:8080/"
        },
        "outputId": "c610635b-23f7-42e1-8c11-deb47ea493ea"
      },
      "execution_count": 4,
      "outputs": [
        {
          "output_type": "stream",
          "name": "stdout",
          "text": [
            "120\n"
          ]
        }
      ]
    },
    {
      "cell_type": "markdown",
      "source": [
        "5) Write a Python function to check whether a number falls within a given range."
      ],
      "metadata": {
        "id": "I2zyMS7XQwLx"
      }
    },
    {
      "cell_type": "code",
      "source": [
        "def is_in_range(num, start, end):\n",
        "    return start <= num <= end\n",
        "\n",
        "print(is_in_range(5, 1, 10))\n",
        "print(is_in_range(15, 1, 10))"
      ],
      "metadata": {
        "id": "rouydHDQRgcc",
        "colab": {
          "base_uri": "https://localhost:8080/"
        },
        "outputId": "413270af-a9a0-49b3-bd72-43a5eabf4f2d"
      },
      "execution_count": 5,
      "outputs": [
        {
          "output_type": "stream",
          "name": "stdout",
          "text": [
            "True\n",
            "False\n"
          ]
        }
      ]
    }
  ]
}